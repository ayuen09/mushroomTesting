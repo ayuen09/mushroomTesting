{
 "cells": [
  {
   "cell_type": "code",
   "execution_count": null,
   "metadata": {
    "collapsed": true
   },
   "outputs": [],
   "source": [
    "import sys\n",
    "\n",
    "def main():\n",
    "    trainSet = input(\"Please enter a training set size (a positive multiple of 250 that is <= 1000): \")\n",
    "    print(trainSet)\n",
    "\n",
    "    inputData = open(\"./mushroom_data.txt\", 'r')\n",
    "    print(inputData.read())\n",
    "\n",
    "    \n",
    "\n",
    "\n",
    "if __name__== \"__main__\" :\n",
    "\tmain()"
   ]
  }
 ],
 "metadata": {
  "kernelspec": {
   "display_name": "Python 3",
   "language": "python",
   "name": "python3"
  },
  "language_info": {
   "codemirror_mode": {
    "name": "ipython",
    "version": 3
   },
   "file_extension": ".py",
   "mimetype": "text/x-python",
   "name": "python",
   "nbconvert_exporter": "python",
   "pygments_lexer": "ipython3",
   "version": "3.6.3"
  }
 },
 "nbformat": 4,
 "nbformat_minor": 2
}
